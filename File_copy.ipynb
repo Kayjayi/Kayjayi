{
  "nbformat": 4,
  "nbformat_minor": 0,
  "metadata": {
    "colab": {
      "provenance": [],
      "authorship_tag": "ABX9TyMYtuO/8tlvSReVCdYz1ZLC",
      "include_colab_link": true
    },
    "kernelspec": {
      "name": "python3",
      "display_name": "Python 3"
    },
    "language_info": {
      "name": "python"
    }
  },
  "cells": [
    {
      "cell_type": "markdown",
      "metadata": {
        "id": "view-in-github",
        "colab_type": "text"
      },
      "source": [
        "<a href=\"https://colab.research.google.com/github/Kayjayi/Kayjayi/blob/main/File_copy.ipynb\" target=\"_parent\"><img src=\"https://colab.research.google.com/assets/colab-badge.svg\" alt=\"Open In Colab\"/></a>"
      ]
    },
    {
      "cell_type": "code",
      "execution_count": null,
      "metadata": {
        "id": "TDGo3VsQXPmx"
      },
      "outputs": [],
      "source": [
        "import os\n",
        "\n",
        "# Specify the folder path containing the files you want to rename\n",
        "folder_path = \"/path/to/your/folder\"\n",
        "\n",
        "# List all files in the folder\n",
        "files = os.listdir(folder_path)\n",
        "\n",
        "# Define a new name pattern (e.g., adding a prefix)\n",
        "new_name_prefix = \"new_name_\"\n",
        "\n",
        "# Loop through the files and rename them\n",
        "for old_name in files:\n",
        "    # Construct the new file name by adding the prefix\n",
        "    new_name = new_name_prefix + old_name\n",
        "\n",
        "    # Full paths to the old and new files\n",
        "    old_path = os.path.join(folder_path, old_name)\n",
        "    new_path = os.path.join(folder_path, new_name)\n",
        "\n",
        "    # Rename the file\n",
        "    os.rename(old_path, new_path)\n",
        "\n",
        "print(\"All files have been renamed.\")"
      ]
    }
  ]
}