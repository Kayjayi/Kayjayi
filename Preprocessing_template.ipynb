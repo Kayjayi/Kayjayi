{
 "cells": [
  {
   "cell_type": "code",
   "execution_count": null,
   "id": "99b69245",
   "metadata": {},
   "outputs": [],
   "source": [
    "#Data Preprocessing\n",
    "import pandas as pd\n",
    "\n",
    "input_data = pd.read_csv('input file.txt')\n",
    "input_data.head()"
   ]
  },
  {
   "cell_type": "code",
   "execution_count": null,
   "id": "06181360",
   "metadata": {},
   "outputs": [],
   "source": [
    "# DEALING WITH MISSING DATA\n",
    "#Check number of rows with missing files\n",
    "\n",
    "masses_data.loc[(masses_data['attribute1'].isnull()) |\n",
    "              (masses_data['attribute2'].isnull()) |\n",
    "              (masses_data['attribute3'].isnull()) |\n",
    "              (masses_data['attribute4'].isnull())]"
   ]
  },
  {
   "cell_type": "code",
   "execution_count": null,
   "id": "a4711967",
   "metadata": {},
   "outputs": [],
   "source": [
    "# Drop the missing data if randomly distributed\n",
    "\n",
    "input_data.dropna(inplace=True)\n",
    "input_data.describe()"
   ]
  },
  {
   "cell_type": "code",
   "execution_count": null,
   "id": "0dcb636f",
   "metadata": {},
   "outputs": [],
   "source": [
    "# Convert to array\n",
    "\n",
    "all_features = input_data[['input1', 'input2',\n",
    "                             'input3', 'input4']].values\n",
    "\n",
    "\n",
    "all_classes = masses_data['input5'].values\n",
    "\n",
    "feature_names = ['input1', 'input2', 'input3', 'input4']\n",
    "\n",
    "all_features"
   ]
  },
  {
   "cell_type": "code",
   "execution_count": null,
   "id": "a10fea10",
   "metadata": {},
   "outputs": [],
   "source": [
    "#Standadize the data\n",
    "\n",
    "from sklearn import preprocessing\n",
    "\n",
    "scaler = preprocessing.StandardScaler()\n",
    "all_features_scaled = scaler.fit_transform(all_features)\n",
    "all_features_scaled"
   ]
  },
  {
   "cell_type": "code",
   "execution_count": null,
   "id": "c354b905",
   "metadata": {},
   "outputs": [],
   "source": [
    "#Use Keras\n",
    "from tensorflow.keras.layers import Dense\n",
    "from tensorflow.keras.models import Sequential\n",
    "\n",
    "def create_model():\n",
    "    model = Sequential()\n",
    "    #4 feature inputs going into an 6-unit layer (more does not seem to help - in fact you can go down to 4)\n",
    "    model.add(Dense(6, input_dim=4, kernel_initializer='normal', activation='relu'))\n",
    "    # \"Deep learning\" turns out to be unnecessary - this additional hidden layer doesn't help either.\n",
    "    #model.add(Dense(4, kernel_initializer='normal', activation='relu'))\n",
    "    # Output layer with a binary classification (benign or malignant)\n",
    "    model.add(Dense(1, kernel_initializer='normal', activation='sigmoid'))\n",
    "    # Compile model; rmsprop seemed to work best\n",
    "    model.compile(loss='binary_crossentropy', optimizer='adam', metrics=['accuracy'])\n",
    "    return model\n",
    "\n",
    "\n",
    "!pip install scikeras[tensorflow]\n",
    "\n",
    "from sklearn.model_selection import cross_val_score\n",
    "from scikeras.wrappers import KerasClassifier, KerasRegressor\n",
    "\n",
    "# Wrap our Keras model in an estimator compatible with scikit_learn\n",
    "estimator = KerasClassifier(build_fn=create_model, epochs=100, verbose=0)\n",
    "# Now we can use scikit_learn's cross_val_score to evaluate this model identically to the others\n",
    "cv_scores = cross_val_score(estimator, all_features_scaled, all_classes, cv=10)\n",
    "cv_scores.mean()\n"
   ]
  }
 ],
 "metadata": {
  "kernelspec": {
   "display_name": "Python 3 (ipykernel)",
   "language": "python",
   "name": "python3"
  },
  "language_info": {
   "codemirror_mode": {
    "name": "ipython",
    "version": 3
   },
   "file_extension": ".py",
   "mimetype": "text/x-python",
   "name": "python",
   "nbconvert_exporter": "python",
   "pygments_lexer": "ipython3",
   "version": "3.10.9"
  }
 },
 "nbformat": 4,
 "nbformat_minor": 5
}
